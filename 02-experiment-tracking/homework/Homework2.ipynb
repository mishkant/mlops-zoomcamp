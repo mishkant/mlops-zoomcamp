{
 "cells": [
  {
   "cell_type": "code",
   "execution_count": 8,
   "id": "abcf7137-776b-40f6-8ba5-b17e2d6c3f83",
   "metadata": {},
   "outputs": [],
   "source": [
    "import os\n",
    "import pickle\n",
    "import mlflow\n",
    "from scipy.sparse import csr_matrix\n",
    "from sklearn.ensemble import RandomForestRegressor\n",
    "from sklearn.metrics import mean_squared_error"
   ]
  },
  {
   "cell_type": "code",
   "execution_count": 9,
   "id": "75a4fe58-2a8d-4a2f-a4e0-ad23a1d732aa",
   "metadata": {},
   "outputs": [
    {
     "data": {
      "text/plain": [
       "<Experiment: artifact_location='/workspaces/mlops-zoomcamp/02-experiment-tracking/homework/mlruns/1', creation_time=1737927624570, experiment_id='1', last_update_time=1737927624570, lifecycle_stage='active', name='random-forest-train', tags={}>"
      ]
     },
     "execution_count": 9,
     "metadata": {},
     "output_type": "execute_result"
    }
   ],
   "source": [
    "# Set up MLflow tracking\n",
    "mlflow.set_tracking_uri(\"sqlite:///mlflow.db\")\n",
    "mlflow.set_experiment(\"random-forest-train\")"
   ]
  },
  {
   "cell_type": "code",
   "execution_count": 10,
   "id": "edc1917b-e43c-44b0-bc56-f182f8b20bf8",
   "metadata": {},
   "outputs": [],
   "source": [
    "def load_pickle(filename: str):\n",
    "    \"\"\"Load data from a pickle file.\"\"\"\n",
    "    with open(filename, \"rb\") as f_in:\n",
    "        return pickle.load(f_in)"
   ]
  },
  {
   "cell_type": "code",
   "execution_count": null,
   "id": "77eabf54-a156-461f-b406-17a7fb5159e0",
   "metadata": {},
   "outputs": [],
   "source": [
    "## TRAIN"
   ]
  },
  {
   "cell_type": "code",
   "execution_count": 11,
   "id": "b1f00927-791c-4b7f-aaa8-8fc990f9cccd",
   "metadata": {},
   "outputs": [],
   "source": [
    "def run_train(data_path: str):\n",
    "    \"\"\"Train a Random Forest model and log the process with MLflow.\"\"\"\n",
    "    # Enable MLflow autologging\n",
    "    mlflow.sklearn.autolog()\n",
    "    \n",
    "    # Load training and validation data\n",
    "    X_train, y_train = load_pickle(os.path.join(data_path, \"train.pkl\"))\n",
    "    X_val, y_val = load_pickle(os.path.join(data_path, \"val.pkl\"))\n",
    "\n",
    "    # Convert data to sparse matrices\n",
    "    X_train = csr_matrix(X_train)\n",
    "    X_val = csr_matrix(X_val)\n",
    "\n",
    "    # Start an MLflow run\n",
    "    with mlflow.start_run():\n",
    "        # Initialize and train the model\n",
    "        rf = RandomForestRegressor(max_depth=10, random_state=0)\n",
    "        rf.fit(X_train, y_train)\n",
    "        \n",
    "        # Make predictions and calculate RMSE\n",
    "        y_pred = rf.predict(X_val)\n",
    "        mse = mean_squared_error(y_val, y_pred)  # Compute MSE\n",
    "        rmse = mse ** 0.5  # Compute RMSE\n",
    "\n",
    "        print(f\"Validation RMSE: {rmse}\")\n",
    "\n",
    "# Run the training process\n",
    "data_path = \"./output\"  # Update this path as needed"
   ]
  },
  {
   "cell_type": "code",
   "execution_count": 12,
   "id": "b5d9c891-3312-4df9-b0fc-c0c4d681ead4",
   "metadata": {},
   "outputs": [
    {
     "name": "stderr",
     "output_type": "stream",
     "text": [
      "/tmp/ipykernel_72259/1612602163.py:4: DeprecationWarning: Please import `csr_matrix` from the `scipy.sparse` namespace; the `scipy.sparse.csr` namespace is deprecated and will be removed in SciPy 2.0.0.\n",
      "  return pickle.load(f_in)\n",
      "2025/01/26 22:23:32 WARNING mlflow.sklearn: Failed to log training dataset information to MLflow Tracking. Reason: 'numpy.ndarray' object has no attribute 'toarray'\n"
     ]
    },
    {
     "name": "stdout",
     "output_type": "stream",
     "text": [
      "Validation RMSE: 5.431162180141208\n"
     ]
    }
   ],
   "source": [
    "run_train(data_path)"
   ]
  },
  {
   "cell_type": "code",
   "execution_count": null,
   "id": "95371896-4b3d-442b-97f9-2438a672538f",
   "metadata": {},
   "outputs": [],
   "source": [
    "## HyperParameters"
   ]
  },
  {
   "cell_type": "code",
   "execution_count": 14,
   "id": "261b2144-bd28-4edf-9726-410b4d6a21ac",
   "metadata": {},
   "outputs": [
    {
     "name": "stdout",
     "output_type": "stream",
     "text": [
      "  0%|                                                                                                                                 | 0/15 [00:00<?, ?trial/s, best loss=?]"
     ]
    },
    {
     "name": "stderr",
     "output_type": "stream",
     "text": [
      "/tmp/ipykernel_72259/1874926329.py:18: DeprecationWarning: Please import `csr_matrix` from the `scipy.sparse` namespace; the `scipy.sparse.csr` namespace is deprecated and will be removed in SciPy 2.0.0.\n",
      "  return pickle.load(f_in)\n",
      "2025/01/26 22:25:59 WARNING mlflow.sklearn: Failed to log training dataset information to MLflow Tracking. Reason: 'numpy.ndarray' object has no attribute 'toarray'\n",
      "\n"
     ]
    },
    {
     "name": "stdout",
     "output_type": "stream",
     "text": [
      "🏃 View run valuable-cub-120 at: http://127.0.0.1:5000/#/experiments/2/runs/286757682e2845ffbdac6ce03bd35c1d                                                                 \n",
      "\n",
      "🧪 View experiment at: http://127.0.0.1:5000/#/experiments/2                                                                                                                 \n",
      "\n",
      "  7%|██████▉                                                                                                 | 1/15 [00:11<02:39, 11.39s/trial, best loss: 5.370086069268862]"
     ]
    },
    {
     "name": "stderr",
     "output_type": "stream",
     "text": [
      "2025/01/26 22:26:10 WARNING mlflow.sklearn: Failed to log training dataset information to MLflow Tracking. Reason: 'numpy.ndarray' object has no attribute 'toarray'\n",
      "\n"
     ]
    },
    {
     "name": "stdout",
     "output_type": "stream",
     "text": [
      "🏃 View run wise-mule-774 at: http://127.0.0.1:5000/#/experiments/2/runs/f81b033ec20d4148b1088ab68929eb09                                                                    \n",
      "\n",
      "🧪 View experiment at: http://127.0.0.1:5000/#/experiments/2                                                                                                                 \n",
      "\n",
      " 13%|█████████████▊                                                                                          | 2/15 [00:15<01:29,  6.89s/trial, best loss: 5.370086069268862]"
     ]
    },
    {
     "name": "stderr",
     "output_type": "stream",
     "text": [
      "2025/01/26 22:26:14 WARNING mlflow.sklearn: Failed to log training dataset information to MLflow Tracking. Reason: 'numpy.ndarray' object has no attribute 'toarray'\n",
      "\n"
     ]
    },
    {
     "name": "stdout",
     "output_type": "stream",
     "text": [
      "🏃 View run aged-donkey-417 at: http://127.0.0.1:5000/#/experiments/2/runs/e84669b110374c1ea102403fe8240d2b                                                                  \n",
      "\n",
      "🧪 View experiment at: http://127.0.0.1:5000/#/experiments/2                                                                                                                 \n",
      "\n",
      " 20%|████████████████████▊                                                                                   | 3/15 [00:19<01:07,  5.63s/trial, best loss: 5.370086069268862]"
     ]
    },
    {
     "name": "stderr",
     "output_type": "stream",
     "text": [
      "2025/01/26 22:26:18 WARNING mlflow.sklearn: Failed to log training dataset information to MLflow Tracking. Reason: 'numpy.ndarray' object has no attribute 'toarray'\n",
      "\n"
     ]
    },
    {
     "name": "stdout",
     "output_type": "stream",
     "text": [
      "🏃 View run useful-steed-202 at: http://127.0.0.1:5000/#/experiments/2/runs/57c3ff13657e4f159bd94fa7af583385                                                                 \n",
      "\n",
      "🧪 View experiment at: http://127.0.0.1:5000/#/experiments/2                                                                                                                 \n",
      "\n",
      " 27%|███████████████████████████▋                                                                            | 4/15 [00:27<01:15,  6.83s/trial, best loss: 5.357490752366866]"
     ]
    },
    {
     "name": "stderr",
     "output_type": "stream",
     "text": [
      "2025/01/26 22:26:27 WARNING mlflow.sklearn: Failed to log training dataset information to MLflow Tracking. Reason: 'numpy.ndarray' object has no attribute 'toarray'\n",
      "\n"
     ]
    },
    {
     "name": "stdout",
     "output_type": "stream",
     "text": [
      "🏃 View run brawny-cow-423 at: http://127.0.0.1:5000/#/experiments/2/runs/f6991b9de7594d54b6da31ad3b31e397                                                                   \n",
      "\n",
      "🧪 View experiment at: http://127.0.0.1:5000/#/experiments/2                                                                                                                 \n",
      "\n",
      " 33%|██████████████████████████████████▋                                                                     | 5/15 [00:34<01:05,  6.59s/trial, best loss: 5.357490752366866]"
     ]
    },
    {
     "name": "stderr",
     "output_type": "stream",
     "text": [
      "2025/01/26 22:26:33 WARNING mlflow.sklearn: Failed to log training dataset information to MLflow Tracking. Reason: 'numpy.ndarray' object has no attribute 'toarray'\n",
      "\n"
     ]
    },
    {
     "name": "stdout",
     "output_type": "stream",
     "text": [
      "🏃 View run bouncy-crow-159 at: http://127.0.0.1:5000/#/experiments/2/runs/374b86e781a94020ac424fc5b8b0bd4a                                                                  \n",
      "\n",
      "🧪 View experiment at: http://127.0.0.1:5000/#/experiments/2                                                                                                                 \n",
      "\n",
      " 40%|█████████████████████████████████████████▌                                                              | 6/15 [00:46<01:18,  8.67s/trial, best loss: 5.354695072530291]"
     ]
    },
    {
     "name": "stderr",
     "output_type": "stream",
     "text": [
      "2025/01/26 22:26:46 WARNING mlflow.sklearn: Failed to log training dataset information to MLflow Tracking. Reason: 'numpy.ndarray' object has no attribute 'toarray'\n",
      "\n"
     ]
    },
    {
     "name": "stdout",
     "output_type": "stream",
     "text": [
      "🏃 View run nosy-hare-959 at: http://127.0.0.1:5000/#/experiments/2/runs/740da0f61d50430aacf310596e073e01                                                                    \n",
      "\n",
      "🧪 View experiment at: http://127.0.0.1:5000/#/experiments/2                                                                                                                 \n",
      "\n",
      " 47%|████████████████████████████████████████████████▌                                                       | 7/15 [00:59<01:19,  9.92s/trial, best loss: 5.354695072530291]"
     ]
    },
    {
     "name": "stderr",
     "output_type": "stream",
     "text": [
      "2025/01/26 22:26:58 WARNING mlflow.sklearn: Failed to log training dataset information to MLflow Tracking. Reason: 'numpy.ndarray' object has no attribute 'toarray'\n",
      "\n"
     ]
    },
    {
     "name": "stdout",
     "output_type": "stream",
     "text": [
      "🏃 View run classy-horse-120 at: http://127.0.0.1:5000/#/experiments/2/runs/74645447bcf24937bc53785f2fd1364d                                                                 \n",
      "\n",
      "🧪 View experiment at: http://127.0.0.1:5000/#/experiments/2                                                                                                                 \n",
      "\n",
      " 53%|███████████████████████████████████████████████████████▍                                                | 8/15 [01:03<00:57,  8.15s/trial, best loss: 5.354695072530291]"
     ]
    },
    {
     "name": "stderr",
     "output_type": "stream",
     "text": [
      "2025/01/26 22:27:02 WARNING mlflow.sklearn: Failed to log training dataset information to MLflow Tracking. Reason: 'numpy.ndarray' object has no attribute 'toarray'\n",
      "\n"
     ]
    },
    {
     "name": "stdout",
     "output_type": "stream",
     "text": [
      "🏃 View run bald-shrew-79 at: http://127.0.0.1:5000/#/experiments/2/runs/fe39bf0b46f04ed181b60b6a6cfce243                                                                    \n",
      "\n",
      "🧪 View experiment at: http://127.0.0.1:5000/#/experiments/2                                                                                                                 \n",
      "\n",
      " 60%|██████████████████████████████████████████████████████████████▍                                         | 9/15 [01:12<00:50,  8.45s/trial, best loss: 5.354695072530291]"
     ]
    },
    {
     "name": "stderr",
     "output_type": "stream",
     "text": [
      "2025/01/26 22:27:12 WARNING mlflow.sklearn: Failed to log training dataset information to MLflow Tracking. Reason: 'numpy.ndarray' object has no attribute 'toarray'\n",
      "\n"
     ]
    },
    {
     "name": "stdout",
     "output_type": "stream",
     "text": [
      "🏃 View run stylish-elk-960 at: http://127.0.0.1:5000/#/experiments/2/runs/b753cb736c9147bc9491619838fd10d0                                                                  \n",
      "\n",
      "🧪 View experiment at: http://127.0.0.1:5000/#/experiments/2                                                                                                                 \n",
      "\n",
      " 67%|████████████████████████████████████████████████████████████████████▋                                  | 10/15 [01:20<00:41,  8.32s/trial, best loss: 5.354695072530291]"
     ]
    },
    {
     "name": "stderr",
     "output_type": "stream",
     "text": [
      "2025/01/26 22:27:20 WARNING mlflow.sklearn: Failed to log training dataset information to MLflow Tracking. Reason: 'numpy.ndarray' object has no attribute 'toarray'\n",
      "\n"
     ]
    },
    {
     "name": "stdout",
     "output_type": "stream",
     "text": [
      "🏃 View run salty-ox-767 at: http://127.0.0.1:5000/#/experiments/2/runs/b6795526ea7f4b7882ecf1ed497a90ff                                                                     \n",
      "\n",
      "🧪 View experiment at: http://127.0.0.1:5000/#/experiments/2                                                                                                                 \n",
      "\n",
      " 73%|███████████████████████████████████████████████████████████████████████████▌                           | 11/15 [01:27<00:31,  7.88s/trial, best loss: 5.335419588556921]"
     ]
    },
    {
     "name": "stderr",
     "output_type": "stream",
     "text": [
      "2025/01/26 22:27:26 WARNING mlflow.sklearn: Failed to log training dataset information to MLflow Tracking. Reason: 'numpy.ndarray' object has no attribute 'toarray'\n",
      "\n"
     ]
    },
    {
     "name": "stdout",
     "output_type": "stream",
     "text": [
      "🏃 View run aged-skunk-123 at: http://127.0.0.1:5000/#/experiments/2/runs/c3fb64a9c79e48039a886ad87c2c3ad1                                                                   \n",
      "\n",
      "🧪 View experiment at: http://127.0.0.1:5000/#/experiments/2                                                                                                                 \n",
      "\n",
      " 80%|██████████████████████████████████████████████████████████████████████████████████▍                    | 12/15 [01:34<00:22,  7.41s/trial, best loss: 5.335419588556921]"
     ]
    },
    {
     "name": "stderr",
     "output_type": "stream",
     "text": [
      "2025/01/26 22:27:33 WARNING mlflow.sklearn: Failed to log training dataset information to MLflow Tracking. Reason: 'numpy.ndarray' object has no attribute 'toarray'\n",
      "\n"
     ]
    },
    {
     "name": "stdout",
     "output_type": "stream",
     "text": [
      "🏃 View run able-shrew-869 at: http://127.0.0.1:5000/#/experiments/2/runs/eed6d6bd32134968b6f07c4fdfaf75c3                                                                   \n",
      "\n",
      "🧪 View experiment at: http://127.0.0.1:5000/#/experiments/2                                                                                                                 \n",
      "\n",
      " 87%|█████████████████████████████████████████████████████████████████████████████████████████▎             | 13/15 [01:38<00:12,  6.48s/trial, best loss: 5.335419588556921]"
     ]
    },
    {
     "name": "stderr",
     "output_type": "stream",
     "text": [
      "2025/01/26 22:27:37 WARNING mlflow.sklearn: Failed to log training dataset information to MLflow Tracking. Reason: 'numpy.ndarray' object has no attribute 'toarray'\n",
      "\n"
     ]
    },
    {
     "name": "stdout",
     "output_type": "stream",
     "text": [
      "🏃 View run learned-tern-929 at: http://127.0.0.1:5000/#/experiments/2/runs/3a3a80980dd1456b84cff051ac087c1c                                                                 \n",
      "\n",
      "🧪 View experiment at: http://127.0.0.1:5000/#/experiments/2                                                                                                                 \n",
      "\n",
      " 93%|████████████████████████████████████████████████████████████████████████████████████████████████▏      | 14/15 [01:44<00:06,  6.53s/trial, best loss: 5.335419588556921]"
     ]
    },
    {
     "name": "stderr",
     "output_type": "stream",
     "text": [
      "2025/01/26 22:27:44 WARNING mlflow.sklearn: Failed to log training dataset information to MLflow Tracking. Reason: 'numpy.ndarray' object has no attribute 'toarray'\n",
      "\n"
     ]
    },
    {
     "name": "stdout",
     "output_type": "stream",
     "text": [
      "🏃 View run ambitious-flea-27 at: http://127.0.0.1:5000/#/experiments/2/runs/28c151c6234f483fbd57ca59faa53482                                                                \n",
      "\n",
      "🧪 View experiment at: http://127.0.0.1:5000/#/experiments/2                                                                                                                 \n",
      "\n",
      "100%|███████████████████████████████████████████████████████████████████████████████████████████████████████| 15/15 [01:53<00:00,  7.57s/trial, best loss: 5.335419588556921]\n"
     ]
    }
   ],
   "source": [
    "import os\n",
    "import pickle\n",
    "import mlflow\n",
    "import numpy as np\n",
    "from hyperopt import STATUS_OK, Trials, fmin, hp, tpe\n",
    "from hyperopt.pyll import scope\n",
    "from sklearn.ensemble import RandomForestRegressor\n",
    "from sklearn.metrics import mean_squared_error\n",
    "\n",
    "# Set up MLflow tracking\n",
    "mlflow.set_tracking_uri(\"http://127.0.0.1:5000\")\n",
    "mlflow.set_experiment(\"random-forest-hyperopt\")\n",
    "\n",
    "\n",
    "def load_pickle(filename: str):\n",
    "    \"\"\"Load data from a pickle file.\"\"\"\n",
    "    with open(filename, \"rb\") as f_in:\n",
    "        return pickle.load(f_in)\n",
    "\n",
    "\n",
    "def run_optimization(data_path: str, num_trials: int):\n",
    "    \"\"\"Run hyperparameter optimization for Random Forest using Hyperopt.\"\"\"\n",
    "    # Load training and validation data\n",
    "    X_train, y_train = load_pickle(os.path.join(data_path, \"train.pkl\"))\n",
    "    X_val, y_val = load_pickle(os.path.join(data_path, \"val.pkl\"))\n",
    "\n",
    "    def objective(params):\n",
    "        \"\"\"Objective function to minimize.\"\"\"\n",
    "        with mlflow.start_run():\n",
    "            mlflow.log_params(params)\n",
    "            rf = RandomForestRegressor(**params)\n",
    "            rf.fit(X_train, y_train)\n",
    "            y_pred = rf.predict(X_val)\n",
    "            mse = mean_squared_error(y_val, y_pred)\n",
    "            rmse = mse ** 0.5\n",
    "            mlflow.log_metric(\"rmse\", rmse)\n",
    "        return {'loss': rmse, 'status': STATUS_OK}\n",
    "\n",
    "    # Define the search space\n",
    "    search_space = {\n",
    "        'max_depth': scope.int(hp.quniform('max_depth', 1, 20, 1)),\n",
    "        'n_estimators': scope.int(hp.quniform('n_estimators', 10, 50, 1)),\n",
    "        'min_samples_split': scope.int(hp.quniform('min_samples_split', 2, 10, 1)),\n",
    "        'min_samples_leaf': scope.int(hp.quniform('min_samples_leaf', 1, 4, 1)),\n",
    "        'random_state': 42\n",
    "    }\n",
    "\n",
    "    # Perform hyperparameter optimization\n",
    "    rstate = np.random.default_rng(42)  # For reproducible results\n",
    "    fmin(\n",
    "        fn=objective,\n",
    "        space=search_space,\n",
    "        algo=tpe.suggest,\n",
    "        max_evals=num_trials,\n",
    "        trials=Trials(),\n",
    "        rstate=rstate\n",
    "    )\n",
    "\n",
    "\n",
    "# Run the optimization directly in Jupyter\n",
    "data_path = \"./output\"  # Update this path if needed\n",
    "num_trials = 15\n",
    "run_optimization(data_path, num_trials)"
   ]
  },
  {
   "cell_type": "code",
   "execution_count": null,
   "id": "f36be0a9-fb87-4dd7-9d96-6aded6b21e86",
   "metadata": {},
   "outputs": [],
   "source": [
    "# Register"
   ]
  },
  {
   "cell_type": "code",
   "execution_count": 24,
   "id": "13a6f7be-3e4c-41c5-a1c2-ade6c5bb8213",
   "metadata": {},
   "outputs": [
    {
     "name": "stderr",
     "output_type": "stream",
     "text": [
      "/tmp/ipykernel_72259/1048469583.py:21: DeprecationWarning: Please import `csr_matrix` from the `scipy.sparse` namespace; the `scipy.sparse.csr` namespace is deprecated and will be removed in SciPy 2.0.0.\n",
      "  return pickle.load(f_in)\n",
      "2025/01/26 22:52:25 WARNING mlflow.sklearn: Failed to log training dataset information to MLflow Tracking. Reason: 'numpy.ndarray' object has no attribute 'toarray'\n"
     ]
    },
    {
     "name": "stdout",
     "output_type": "stream",
     "text": [
      "🏃 View run redolent-elk-798 at: http://127.0.0.1:5000/#/experiments/3/runs/91c8d16d1c7b4d84bb7fc14f06972435\n",
      "🧪 View experiment at: http://127.0.0.1:5000/#/experiments/3\n"
     ]
    },
    {
     "name": "stderr",
     "output_type": "stream",
     "text": [
      "/tmp/ipykernel_72259/1048469583.py:21: DeprecationWarning: Please import `csr_matrix` from the `scipy.sparse` namespace; the `scipy.sparse.csr` namespace is deprecated and will be removed in SciPy 2.0.0.\n",
      "  return pickle.load(f_in)\n",
      "2025/01/26 22:52:33 WARNING mlflow.sklearn: Failed to log training dataset information to MLflow Tracking. Reason: 'numpy.ndarray' object has no attribute 'toarray'\n"
     ]
    },
    {
     "name": "stdout",
     "output_type": "stream",
     "text": [
      "🏃 View run gifted-lamb-202 at: http://127.0.0.1:5000/#/experiments/3/runs/96743d203b544e0eb415ad7191d05623\n",
      "🧪 View experiment at: http://127.0.0.1:5000/#/experiments/3\n"
     ]
    },
    {
     "name": "stderr",
     "output_type": "stream",
     "text": [
      "/tmp/ipykernel_72259/1048469583.py:21: DeprecationWarning: Please import `csr_matrix` from the `scipy.sparse` namespace; the `scipy.sparse.csr` namespace is deprecated and will be removed in SciPy 2.0.0.\n",
      "  return pickle.load(f_in)\n",
      "2025/01/26 22:52:42 WARNING mlflow.sklearn: Failed to log training dataset information to MLflow Tracking. Reason: 'numpy.ndarray' object has no attribute 'toarray'\n"
     ]
    },
    {
     "name": "stdout",
     "output_type": "stream",
     "text": [
      "🏃 View run calm-foal-754 at: http://127.0.0.1:5000/#/experiments/3/runs/e35c72c1941e4ae6bdf780ec77280523\n",
      "🧪 View experiment at: http://127.0.0.1:5000/#/experiments/3\n"
     ]
    },
    {
     "name": "stderr",
     "output_type": "stream",
     "text": [
      "/tmp/ipykernel_72259/1048469583.py:21: DeprecationWarning: Please import `csr_matrix` from the `scipy.sparse` namespace; the `scipy.sparse.csr` namespace is deprecated and will be removed in SciPy 2.0.0.\n",
      "  return pickle.load(f_in)\n",
      "2025/01/26 22:52:56 WARNING mlflow.sklearn: Failed to log training dataset information to MLflow Tracking. Reason: 'numpy.ndarray' object has no attribute 'toarray'\n"
     ]
    },
    {
     "name": "stdout",
     "output_type": "stream",
     "text": [
      "🏃 View run omniscient-quail-602 at: http://127.0.0.1:5000/#/experiments/3/runs/9a8d4b10246f469399c19d5e2b03e482\n",
      "🧪 View experiment at: http://127.0.0.1:5000/#/experiments/3\n"
     ]
    },
    {
     "name": "stderr",
     "output_type": "stream",
     "text": [
      "/tmp/ipykernel_72259/1048469583.py:21: DeprecationWarning: Please import `csr_matrix` from the `scipy.sparse` namespace; the `scipy.sparse.csr` namespace is deprecated and will be removed in SciPy 2.0.0.\n",
      "  return pickle.load(f_in)\n",
      "2025/01/26 22:53:10 WARNING mlflow.sklearn: Failed to log training dataset information to MLflow Tracking. Reason: 'numpy.ndarray' object has no attribute 'toarray'\n",
      "Registered model 'rf-best-model' already exists. Creating a new version of this model...\n",
      "2025/01/26 22:53:20 INFO mlflow.store.model_registry.abstract_store: Waiting up to 300 seconds for model version to finish creation. Model name: rf-best-model, version 2\n"
     ]
    },
    {
     "name": "stdout",
     "output_type": "stream",
     "text": [
      "🏃 View run respected-croc-195 at: http://127.0.0.1:5000/#/experiments/3/runs/3889d3cd2f354afdb531475e8b3ede93\n",
      "🧪 View experiment at: http://127.0.0.1:5000/#/experiments/3\n"
     ]
    },
    {
     "name": "stderr",
     "output_type": "stream",
     "text": [
      "Created version '2' of model 'rf-best-model'.\n"
     ]
    }
   ],
   "source": [
    "import os\n",
    "import pickle\n",
    "import mlflow\n",
    "from mlflow.entities import ViewType\n",
    "from mlflow.tracking import MlflowClient\n",
    "from sklearn.ensemble import RandomForestRegressor\n",
    "from sklearn.metrics import mean_squared_error\n",
    "\n",
    "HPO_EXPERIMENT_NAME = \"random-forest-hyperopt\"\n",
    "EXPERIMENT_NAME = \"random-forest-best-models\"\n",
    "RF_PARAMS = ['max_depth', 'n_estimators', 'min_samples_split', 'min_samples_leaf', 'random_state']\n",
    "\n",
    "mlflow.set_tracking_uri(\"http://127.0.0.1:5000\")\n",
    "mlflow.set_experiment(EXPERIMENT_NAME)\n",
    "mlflow.sklearn.autolog()\n",
    "\n",
    "\n",
    "def load_pickle(filename):\n",
    "    \"\"\"Load a pickle file.\"\"\"\n",
    "    with open(filename, \"rb\") as f_in:\n",
    "        return pickle.load(f_in)\n",
    "\n",
    "\n",
    "def train_and_log_model(data_path, params):\n",
    "    \"\"\"Train a Random Forest model and log its metrics with MLflow.\"\"\"\n",
    "    # Load data\n",
    "    X_train, y_train = load_pickle(os.path.join(data_path, \"train.pkl\"))\n",
    "    X_val, y_val = load_pickle(os.path.join(data_path, \"val.pkl\"))\n",
    "    X_test, y_test = load_pickle(os.path.join(data_path, \"test.pkl\"))\n",
    "\n",
    "    # Ensure parameters are correctly typed\n",
    "    typed_params = {\n",
    "        'n_estimators': int(params.get('n_estimators', 100)),\n",
    "        'max_depth': int(params.get('max_depth', None)) if params.get('max_depth') != 'None' else None,\n",
    "        'min_samples_split': int(params.get('min_samples_split', 2)),\n",
    "        'min_samples_leaf': int(params.get('min_samples_leaf', 1)),\n",
    "        'random_state': int(params.get('random_state', 42)),\n",
    "        'bootstrap': params.get('bootstrap', 'True') == 'True'  # Convert string to boolean\n",
    "    }\n",
    "\n",
    "    with mlflow.start_run():\n",
    "        # Train the model\n",
    "        rf = RandomForestRegressor(**typed_params)\n",
    "        rf.fit(X_train, y_train)\n",
    "\n",
    "        # Evaluate model on validation and test sets\n",
    "        val_mse = mean_squared_error(y_val, rf.predict(X_val))\n",
    "        val_rmse = val_mse ** 0.5\n",
    "        mlflow.log_metric(\"val_rmse\", val_rmse)\n",
    "\n",
    "        test_mse = mean_squared_error(y_test, rf.predict(X_test))\n",
    "        test_rmse = test_mse ** 0.5\n",
    "        mlflow.log_metric(\"test_rmse\", test_rmse)\n",
    "\n",
    "\n",
    "def run_register_model(data_path, top_n):\n",
    "    \"\"\"Register the best Random Forest model in MLflow.\"\"\"\n",
    "    client = MlflowClient()\n",
    "\n",
    "    # Retrieve the top_n model runs from the hyperparameter optimization experiment\n",
    "    experiment = client.get_experiment_by_name(HPO_EXPERIMENT_NAME)\n",
    "    runs = client.search_runs(\n",
    "        experiment_ids=experiment.experiment_id,\n",
    "        run_view_type=ViewType.ACTIVE_ONLY,\n",
    "        max_results=top_n,\n",
    "        order_by=[\"metrics.rmse ASC\"]\n",
    "    )\n",
    "\n",
    "    for run in runs:\n",
    "        train_and_log_model(data_path=data_path, params=run.data.params)\n",
    "\n",
    "    # Select the model with the lowest test RMSE\n",
    "    experiment = client.get_experiment_by_name(EXPERIMENT_NAME)\n",
    "    best_run = client.search_runs(\n",
    "        experiment_ids=experiment.experiment_id,\n",
    "        run_view_type=ViewType.ACTIVE_ONLY,\n",
    "        max_results=1,\n",
    "        order_by=[\"metrics.test_rmse ASC\"]\n",
    "    )[0]\n",
    "\n",
    "    # Register the best model in MLflow\n",
    "    run_id = best_run.info.run_id\n",
    "    model_uri = f\"runs:/{run_id}/model\"\n",
    "    mlflow.register_model(model_uri, name=\"rf-best-model\")\n",
    "\n",
    "\n",
    "# Specify parameters directly in the notebook\n",
    "data_path = \"./output\"  # Path to the processed data\n",
    "top_n = 5  # Number of top models to evaluate\n",
    "\n",
    "# Run the main function\n",
    "run_register_model(data_path, top_n)"
   ]
  }
 ],
 "metadata": {
  "kernelspec": {
   "display_name": "Python 3 (ipykernel)",
   "language": "python",
   "name": "python3"
  },
  "language_info": {
   "codemirror_mode": {
    "name": "ipython",
    "version": 3
   },
   "file_extension": ".py",
   "mimetype": "text/x-python",
   "name": "python",
   "nbconvert_exporter": "python",
   "pygments_lexer": "ipython3",
   "version": "3.9.21"
  }
 },
 "nbformat": 4,
 "nbformat_minor": 5
}
